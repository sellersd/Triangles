{
 "cells": [
  {
   "cell_type": "code",
   "execution_count": null,
   "outputs": [],
   "source": [
    "import numpy as np\n",
    "from matplotlib import pyplot as plt\n",
    "\n",
    "x = np.array([[0,0], [3,4], [6,0],\n",
    "              [0,8], [6, 0], [11,0],\n",
    "              [0, 0], [0, 12], [5, 0],\n",
    "              [2, 1], [5, 4], [3, 7]])\n",
    "\n",
    "plt.figure()\n",
    "plt.scatter(x[:3, 0], x[:3, 1], s=0)\n",
    "\n",
    "t1 = plt.Polygon(x[:3,:])\n",
    "plt.gca().add_patch(t1)\n",
    "plt.show()\n",
    "\n",
    "plt.scatter(x[3:6, 0], x[3:6, 1], s=0)\n",
    "t2 = plt.Polygon(x[3:6,:])\n",
    "plt.gca().add_patch(t2)\n",
    "plt.show()\n",
    "\n",
    "plt.scatter(x[6:9, 0], x[6:9, 1], s=0)\n",
    "t3 = plt.Polygon(x[6:9,:])\n",
    "plt.gca().add_patch(t3)\n",
    "plt.show()\n",
    "\n",
    "plt.scatter(x[9:, 0], x[9:, 1], s=0)\n",
    "t3 = plt.Polygon(x[9:,:])\n",
    "plt.gca().add_patch(t3)\n",
    "plt.show()"
   ],
   "metadata": {
    "collapsed": false,
    "pycharm": {
     "name": "#%%\n"
    }
   }
  }
 ],
 "metadata": {
  "kernelspec": {
   "display_name": "Python 3",
   "language": "python",
   "name": "python3"
  },
  "language_info": {
   "codemirror_mode": {
    "name": "ipython",
    "version": 2
   },
   "file_extension": ".py",
   "mimetype": "text/x-python",
   "name": "python",
   "nbconvert_exporter": "python",
   "pygments_lexer": "ipython2",
   "version": "2.7.6"
  }
 },
 "nbformat": 4,
 "nbformat_minor": 0
}